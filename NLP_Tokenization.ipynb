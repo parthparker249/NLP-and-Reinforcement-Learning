{
 "cells": [
  {
   "cell_type": "markdown",
   "metadata": {
    "id": "9pySfXTRGm4h"
   },
   "source": [
    "# Tokenization\n",
    "Learning Objective 1: Tokenize text from scratch <br>\n",
    "Learning Objective 2: Use Keras's text preprocessing module <br>\n",
    "<br>"
   ]
  },
  {
   "cell_type": "code",
   "execution_count": null,
   "metadata": {
    "id": "mECj4eMR9K-_"
   },
   "outputs": [],
   "source": [
    "import string"
   ]
  },
  {
   "cell_type": "markdown",
   "metadata": {
    "id": "eHkgpXzAFcpv"
   },
   "source": [
    "# Task 2: Process a text file\n",
    "Used the data file [zillow_description.txt](https://colab.research.google.com/corgiredirector?site=https%3A%2F%2Fwww.dropbox.com%2Fscl%2Ffi%2Fghq6fkva14gwduwh045t3%2Fzillow_description.txt%3Frlkey%3D62k5pz98m6lcuxxfjlmyf07e5%26dl%3D1). It is a text file with textual descriptions of a Williamsburg property listing on Zillow. <br> \n",
    "\n",
    "\n"
   ]
  },
  {
   "cell_type": "code",
   "execution_count": null,
   "metadata": {
    "colab": {
     "base_uri": "https://localhost:8080/"
    },
    "id": "RlXsH4PQFkRH",
    "outputId": "d9dc511c-b9bc-4654-c1f3-75295d8e9fd4"
   },
   "outputs": [
    {
     "name": "stdout",
     "output_type": "stream",
     "text": [
      "For those seeking maintenance-free living in the heart of the City of Williamsburg, look no further! This luxurious condominium is located a short, two-mile drive (or walk) to Colonial Williamsburg and William & Mary. This 1584 sq ft condo is the perfect spot for a graduate student, young couple, retiree or anyone in between! The all one level unit features generous sized 2 bedrooms; 2 baths, natural light filled living room and upgraded kitchen with stainless appliances, granite counters and crisp white cabinetry. This single-owner home has been well-maintained and is in move in condition! Hardwood floors, plush carpeting, and built-in cabinetry are just a few of the upgrades made to this gorgeous condo. Unit includes walk in attic for extra storage! With easy access to all Williamsburg has to offer, maintenance free living and wooded privacy, you will be happy to call The Woodlands home!\n"
     ]
    }
   ],
   "source": [
    "# a) Reading the text file's entire content into a new string variable called zillow \n",
    "\n",
    "fh = open(\"zillow_description.txt\", \"r\")\n",
    "zillow_original=fh.read()\n",
    "print(zillow_original)"
   ]
  },
  {
   "cell_type": "code",
   "execution_count": null,
   "metadata": {
    "colab": {
     "base_uri": "https://localhost:8080/"
    },
    "id": "jefgICikzJcL",
    "outputId": "ec2d87e2-6579-487f-aede-4e0888c6ad0f"
   },
   "outputs": [
    {
     "name": "stdout",
     "output_type": "stream",
     "text": [
      "For those seeking maintenance-free living in the heart of the City of Williamsburg, look no further! This luxurious condominium is located a short, two-mile drive (or walk) to Colonial Williamsburg and William & Mary. This 1584 sq ft condo is the perfect spot for a graduate student, young couple, retiree or anyone in between! The all one level unit features generous sized 2 bedrooms; 2 baths, natural light filled living room and upgraded kitchen with stainless appliances, granite counters and crisp white cabinetry. This single-owner home has been well-maintained and is in move in condition! Hardwood floors, plush carpeting, and built-in cabinetry are just a few of the upgrades made to this gorgeous condo. Unit includes walk in attic for extra storage! With easy access to all Williamsburg has to offer, maintenance free living and wooded privacy, you will be happy to call The Woodlands home!\n",
      "for those seeking maintenance-free living in the heart of the city of williamsburg, look no further! this luxurious condominium is located a short, two-mile drive (or walk) to colonial williamsburg and william & mary. this 1584 sq ft condo is the perfect spot for a graduate student, young couple, retiree or anyone in between! the all one level unit features generous sized 2 bedrooms; 2 baths, natural light filled living room and upgraded kitchen with stainless appliances, granite counters and crisp white cabinetry. this single-owner home has been well-maintained and is in move in condition! hardwood floors, plush carpeting, and built-in cabinetry are just a few of the upgrades made to this gorgeous condo. unit includes walk in attic for extra storage! with easy access to all williamsburg has to offer, maintenance free living and wooded privacy, you will be happy to call the woodlands home!\n"
     ]
    }
   ],
   "source": [
    "# b) Making all of the words in zillow lowercase\n",
    "\n",
    "zillow =zillow_original.lower()\n",
    "\n",
    "# c) Printing the content of the updated zillow variable on the screen\n",
    "\n",
    "print(zillow_original)\n",
    "print(zillow)"
   ]
  },
  {
   "cell_type": "code",
   "execution_count": null,
   "metadata": {
    "colab": {
     "base_uri": "https://localhost:8080/"
    },
    "id": "vnMOsR7NqbwD",
    "outputId": "32609e46-7ab8-4425-84e0-40a6436f2d80"
   },
   "outputs": [
    {
     "name": "stdout",
     "output_type": "stream",
     "text": [
      "!\"#$%&'()*+,-./:;<=>?@[\\]^_`{|}~\n"
     ]
    }
   ],
   "source": [
    "# Processing the zillow text into a list of words.\n",
    "# First removing the punctuation symbols\n",
    "# I will use the string library for this task\n",
    "\n",
    "# d) The string library has a pre-built constant of a list of punctuation symbols called punctuation\n",
    "#    Printing the content of punctuation on the screen\n",
    "\n",
    "print(string.punctuation)"
   ]
  },
  {
   "cell_type": "code",
   "execution_count": null,
   "metadata": {
    "colab": {
     "base_uri": "https://localhost:8080/"
    },
    "id": "oQKMG-nNMl1T",
    "outputId": "6eb97cc4-7995-4ca8-ec49-8dc3e76b96c4"
   },
   "outputs": [
    {
     "name": "stdout",
     "output_type": "stream",
     "text": [
      "for those seeking maintenancefree living in the heart of the city of williamsburg look no further this luxurious condominium is located a short twomile drive or walk to colonial williamsburg and william  mary this 1584 sq ft condo is the perfect spot for a graduate student young couple retiree or anyone in between the all one level unit features generous sized 2 bedrooms 2 baths natural light filled living room and upgraded kitchen with stainless appliances granite counters and crisp white cabinetry this singleowner home has been wellmaintained and is in move in condition hardwood floors plush carpeting and builtin cabinetry are just a few of the upgrades made to this gorgeous condo unit includes walk in attic for extra storage with easy access to all williamsburg has to offer maintenance free living and wooded privacy you will be happy to call the woodlands home\n"
     ]
    }
   ],
   "source": [
    "# e) Using for loop,\n",
    "#    go through each element of the zillow string variable and remove the element from the zillow variable if it is on the punctuation list I just printed in step d)\n",
    "\n",
    "for element in zillow:\n",
    "  if element in string.punctuation:\n",
    "    zillow = zillow.replace(element, \"\")\n",
    "\n",
    "# f) Print the updated zillow variable on screen (and make sure it has no punctuation signs)\n",
    "print(zillow)"
   ]
  },
  {
   "cell_type": "code",
   "execution_count": null,
   "metadata": {
    "colab": {
     "base_uri": "https://localhost:8080/"
    },
    "id": "oMSbKtHfuc0V",
    "outputId": "d3c17857-0994-48bc-c539-130eac9122e0"
   },
   "outputs": [
    {
     "name": "stdout",
     "output_type": "stream",
     "text": [
      "['for', 'those', 'seeking', 'maintenancefree', 'living', 'in', 'the', 'heart', 'of', 'the', 'city', 'of', 'williamsburg', 'look', 'no', 'further', 'this', 'luxurious', 'condominium', 'is', 'located', 'a', 'short', 'twomile', 'drive', 'or', 'walk', 'to', 'colonial', 'williamsburg', 'and', 'william', '', 'mary', 'this', '1584', 'sq', 'ft', 'condo', 'is', 'the', 'perfect', 'spot', 'for', 'a', 'graduate', 'student', 'young', 'couple', 'retiree', 'or', 'anyone', 'in', 'between', 'the', 'all', 'one', 'level', 'unit', 'features', 'generous', 'sized', '2', 'bedrooms', '2', 'baths', 'natural', 'light', 'filled', 'living', 'room', 'and', 'upgraded', 'kitchen', 'with', 'stainless', 'appliances', 'granite', 'counters', 'and', 'crisp', 'white', 'cabinetry', 'this', 'singleowner', 'home', 'has', 'been', 'wellmaintained', 'and', 'is', 'in', 'move', 'in', 'condition', 'hardwood', 'floors', 'plush', 'carpeting', 'and', 'builtin', 'cabinetry', 'are', 'just', 'a', 'few', 'of', 'the', 'upgrades', 'made', 'to', 'this', 'gorgeous', 'condo', 'unit', 'includes', 'walk', 'in', 'attic', 'for', 'extra', 'storage', 'with', 'easy', 'access', 'to', 'all', 'williamsburg', 'has', 'to', 'offer', 'maintenance', 'free', 'living', 'and', 'wooded', 'privacy', 'you', 'will', 'be', 'happy', 'to', 'call', 'the', 'woodlands', 'home']\n"
     ]
    }
   ],
   "source": [
    "# g) Spliting the zillow variable into a Python list of words (i.e. splitting by the white space)\n",
    "#    Completed \"word tokenization\" which is an important first step in Natural Language Processing\n",
    "zillow_words=zillow.split(\" \")\n",
    "print(zillow_words)"
   ]
  },
  {
   "cell_type": "code",
   "execution_count": null,
   "metadata": {
    "id": "DY6SYvHUM1jw"
   },
   "outputs": [],
   "source": [
    "# h) Loop through the word list from g) and count the number of positive words in your word list that are listed in the positive_words variable here\n",
    "\n",
    "positive_words=['Terrence', \"Julie\", 'happy', 'free', 'easy', 'gorgeous', 'generous', 'perfect', 'luxurious', 'good', 'wonderful', 'fantastic', 'amazing', 'lovely']\n"
   ]
  },
  {
   "cell_type": "code",
   "execution_count": null,
   "metadata": {
    "id": "QcZS1FUFM8is"
   },
   "outputs": [],
   "source": [
    "#    Write each positive word I found to a new text file called \"positive.txt\", which each word as its own line\n",
    "#    Make sure to close the file when you are done writing\n",
    "pos_file = open(\"positive.txt\", \"w\") # w is for writing (a file)\n",
    "pos_count=0\n",
    "for word in zillow_words: #words is just a list of words in zillow that have been split by spaces earlier\n",
    "  if word in positive_words:\n",
    "    pos_count +=1 # increment positive word count by one\n",
    "    pos_file.write(word + '\\n')\n",
    "\n",
    "pos_file.close()"
   ]
  },
  {
   "cell_type": "code",
   "execution_count": null,
   "metadata": {
    "colab": {
     "base_uri": "https://localhost:8080/"
    },
    "id": "Igphkmm2NOP4",
    "outputId": "038b9684-fd35-4ddf-e97f-0d0555102d69"
   },
   "outputs": [
    {
     "name": "stdout",
     "output_type": "stream",
     "text": [
      "7\n"
     ]
    }
   ],
   "source": [
    "# i) Print the positive word count on screen\n",
    "print(pos_count)"
   ]
  },
  {
   "cell_type": "code",
   "execution_count": null,
   "metadata": {
    "colab": {
     "base_uri": "https://localhost:8080/"
    },
    "id": "_k3uepI8OiG1",
    "outputId": "e0ec6398-eedf-4ee7-c856-596ca28db1b9"
   },
   "outputs": [
    {
     "name": "stdout",
     "output_type": "stream",
     "text": [
      "{'Terrence': 0, 'Julie': 0, 'happy': 0, 'free': 0, 'easy': 0, 'gorgeous': 0, 'generous': 0, 'perfect': 0, 'luxurious': 0, 'good': 0, 'wonderful': 0, 'fantastic': 0, 'amazing': 0, 'lovely': 0}\n"
     ]
    }
   ],
   "source": [
    "# (1) Initialize an empty Python dictionary\n",
    "pos_dict={}\n",
    "\n",
    "# (2) positive words have to be keys\n",
    "for word in positive_words:\n",
    "  pos_dict[word]=0\n",
    "\n",
    "print(pos_dict)"
   ]
  },
  {
   "cell_type": "code",
   "execution_count": null,
   "metadata": {
    "colab": {
     "base_uri": "https://localhost:8080/"
    },
    "id": "6-hqk62a7NlQ",
    "outputId": "654716d7-a21c-434c-eb48-181e0cb43946"
   },
   "outputs": [
    {
     "name": "stdout",
     "output_type": "stream",
     "text": [
      "{'Terrence': 0, 'Julie': 0, 'happy': 1, 'free': 1, 'easy': 1, 'gorgeous': 1, 'generous': 1, 'perfect': 1, 'luxurious': 1, 'good': 0, 'wonderful': 0, 'fantastic': 0, 'amazing': 0, 'lovely': 0}\n"
     ]
    }
   ],
   "source": [
    "# Loop through the zillow text string\n",
    "for word in zillow_words:\n",
    "# Increment the value of the relevant key by one for each positive word found\n",
    "    if word in positive_words:\n",
    "        pos_dict[word]+=1\n",
    "\n",
    "print(pos_dict)"
   ]
  },
  {
   "cell_type": "markdown",
   "metadata": {
    "id": "77o-E10UQZe8"
   },
   "source": [
    "Now trying the built-in text preprocessing functions provided by Keras <br>\n",
    "First, importing Tokenizer and text_to_word_sequence modules from keras.preprocessing.text <br>\n",
    "\n",
    "Note: Official documentaiton here: https://keras.io/api/layers/preprocessing_layers/text/text_vectorization/ <br>\n",
    "\n",
    "TensorFlow also offers a few tokenizers through the tensorflow_text package: https://www.tensorflow.org/text/guide/tokenizers"
   ]
  },
  {
   "cell_type": "code",
   "execution_count": null,
   "metadata": {
    "id": "db4IL4Vokgxl"
   },
   "outputs": [],
   "source": [
    "import tensorflow as tf\n",
    "from keras.preprocessing.text import Tokenizer\n",
    "from keras.preprocessing.text import text_to_word_sequence\n"
   ]
  },
  {
   "cell_type": "code",
   "execution_count": null,
   "metadata": {
    "colab": {
     "base_uri": "https://localhost:8080/"
    },
    "id": "jhLt1lrHl2Id",
    "outputId": "9cbf87f0-a5ba-4b1d-9742-0fe004ec3998"
   },
   "outputs": [
    {
     "name": "stdout",
     "output_type": "stream",
     "text": [
      "['for', 'those', 'seeking', 'maintenance', 'free', 'living', 'in', 'the', 'heart', 'of', 'the', 'city', 'of', 'williamsburg', 'look', 'no', 'further', 'this', 'luxurious', 'condominium', 'is', 'located', 'a', 'short', 'two', 'mile', 'drive', 'or', 'walk', 'to', 'colonial', 'williamsburg', 'and', 'william', 'mary', 'this', '1584', 'sq', 'ft', 'condo', 'is', 'the', 'perfect', 'spot', 'for', 'a', 'graduate', 'student', 'young', 'couple', 'retiree', 'or', 'anyone', 'in', 'between', 'the', 'all', 'one', 'level', 'unit', 'features', 'generous', 'sized', '2', 'bedrooms', '2', 'baths', 'natural', 'light', 'filled', 'living', 'room', 'and', 'upgraded', 'kitchen', 'with', 'stainless', 'appliances', 'granite', 'counters', 'and', 'crisp', 'white', 'cabinetry', 'this', 'single', 'owner', 'home', 'has', 'been', 'well', 'maintained', 'and', 'is', 'in', 'move', 'in', 'condition', 'hardwood', 'floors', 'plush', 'carpeting', 'and', 'built', 'in', 'cabinetry', 'are', 'just', 'a', 'few', 'of', 'the', 'upgrades', 'made', 'to', 'this', 'gorgeous', 'condo', 'unit', 'includes', 'walk', 'in', 'attic', 'for', 'extra', 'storage', 'with', 'easy', 'access', 'to', 'all', 'williamsburg', 'has', 'to', 'offer', 'maintenance', 'free', 'living', 'and', 'wooded', 'privacy', 'you', 'will', 'be', 'happy', 'to', 'call', 'the', 'woodlands', 'home']\n"
     ]
    }
   ],
   "source": [
    "# text_to_word_sequence can tokenize a document for you automatically\n",
    "result = text_to_word_sequence(zillow_original)\n",
    "print(result)"
   ]
  },
  {
   "cell_type": "code",
   "execution_count": null,
   "metadata": {
    "colab": {
     "base_uri": "https://localhost:8080/"
    },
    "id": "CKpV2TaTq5Kh",
    "outputId": "659dc299-8042-4728-902f-40781ccc7433"
   },
   "outputs": [
    {
     "name": "stdout",
     "output_type": "stream",
     "text": [
      "['For those seeking maintenance-free living in the heart of the City of Williamsburg, look no further! This luxurious condominium is located a short, two-mile drive (or walk) to Colonial Williamsburg and William & Mary. This 1584 sq ft condo is the perfect spot for a graduate student, young couple, retiree or anyone in between! The all one level unit features generous sized 2 bedrooms; 2 baths, natural light filled living room and upgraded kitchen with stainless appliances, granite counters and crisp white cabinetry. This single-owner home has been well-maintained and is in move in condition! Hardwood floors, plush carpeting, and built-in cabinetry are just a few of the upgrades made to this gorgeous condo. Unit includes walk in attic for extra storage! With easy access to all Williamsburg has to offer, maintenance free living and wooded privacy, you will be happy to call The Woodlands home!']\n"
     ]
    }
   ],
   "source": [
    "t = Tokenizer() # initiate a new instance of the Tokenizer (which is a class) - the tokenizer expects a list of documents as input\n",
    "document=[zillow_original] # convert the original text string into a list\n",
    "print(document)"
   ]
  },
  {
   "cell_type": "code",
   "execution_count": null,
   "metadata": {
    "id": "3Q9S6KCBQTo-"
   },
   "outputs": [],
   "source": [
    "# fit the tokenizer on the documents\n",
    "t.fit_on_texts(document) # fit_on_texts expects a list as input"
   ]
  },
  {
   "cell_type": "code",
   "execution_count": null,
   "metadata": {
    "colab": {
     "base_uri": "https://localhost:8080/"
    },
    "id": "nBDhcesaP_VB",
    "outputId": "8bb10734-4885-4d1b-d24b-6816a3ec800d"
   },
   "outputs": [
    {
     "name": "stdout",
     "output_type": "stream",
     "text": [
      "OrderedDict([('for', 3), ('those', 1), ('seeking', 1), ('maintenance', 2), ('free', 2), ('living', 3), ('in', 6), ('the', 6), ('heart', 1), ('of', 3), ('city', 1), ('williamsburg', 3), ('look', 1), ('no', 1), ('further', 1), ('this', 4), ('luxurious', 1), ('condominium', 1), ('is', 3), ('located', 1), ('a', 3), ('short', 1), ('two', 1), ('mile', 1), ('drive', 1), ('or', 2), ('walk', 2), ('to', 5), ('colonial', 1), ('and', 6), ('william', 1), ('mary', 1), ('1584', 1), ('sq', 1), ('ft', 1), ('condo', 2), ('perfect', 1), ('spot', 1), ('graduate', 1), ('student', 1), ('young', 1), ('couple', 1), ('retiree', 1), ('anyone', 1), ('between', 1), ('all', 2), ('one', 1), ('level', 1), ('unit', 2), ('features', 1), ('generous', 1), ('sized', 1), ('2', 2), ('bedrooms', 1), ('baths', 1), ('natural', 1), ('light', 1), ('filled', 1), ('room', 1), ('upgraded', 1), ('kitchen', 1), ('with', 2), ('stainless', 1), ('appliances', 1), ('granite', 1), ('counters', 1), ('crisp', 1), ('white', 1), ('cabinetry', 2), ('single', 1), ('owner', 1), ('home', 2), ('has', 2), ('been', 1), ('well', 1), ('maintained', 1), ('move', 1), ('condition', 1), ('hardwood', 1), ('floors', 1), ('plush', 1), ('carpeting', 1), ('built', 1), ('are', 1), ('just', 1), ('few', 1), ('upgrades', 1), ('made', 1), ('gorgeous', 1), ('includes', 1), ('attic', 1), ('extra', 1), ('storage', 1), ('easy', 1), ('access', 1), ('offer', 1), ('wooded', 1), ('privacy', 1), ('you', 1), ('will', 1), ('be', 1), ('happy', 1), ('call', 1), ('woodlands', 1)])\n"
     ]
    }
   ],
   "source": [
    "print(t.word_counts) "
   ]
  },
  {
   "cell_type": "code",
   "execution_count": null,
   "metadata": {
    "colab": {
     "base_uri": "https://localhost:8080/"
    },
    "id": "eGsUQ4ftNr-3",
    "outputId": "8c73dece-d446-44ff-852a-cc006cd4f8d2"
   },
   "outputs": [
    {
     "name": "stdout",
     "output_type": "stream",
     "text": [
      "[[0. 6. 6. 6. 5. 4. 3. 3. 3. 3. 3. 3. 2. 2. 2. 2. 2. 2. 2. 2. 2. 2. 2. 2.\n",
      "  1. 1. 1. 1. 1. 1. 1. 1. 1. 1. 1. 1. 1. 1. 1. 1. 1. 1. 1. 1. 1. 1. 1. 1.\n",
      "  1. 1. 1. 1. 1. 1. 1. 1. 1. 1. 1. 1. 1. 1. 1. 1. 1. 1. 1. 1. 1. 1. 1. 1.\n",
      "  1. 1. 1. 1. 1. 1. 1. 1. 1. 1. 1. 1. 1. 1. 1. 1. 1. 1. 1. 1. 1. 1. 1. 1.\n",
      "  1. 1. 1. 1. 1. 1. 1. 1. 1.]]\n"
     ]
    }
   ],
   "source": [
    "# texts_to_matrix converts a list of texts to a Numpy matrix.\n",
    "# This creates a matrix of the document in terms of word count\n",
    "encoded_docs=t.texts_to_matrix(document,mode = \"count\")\n",
    "print(encoded_docs)"
   ]
  },
  {
   "cell_type": "code",
   "execution_count": null,
   "metadata": {
    "colab": {
     "base_uri": "https://localhost:8080/"
    },
    "id": "oieDpVRB7YlS",
    "outputId": "d21ce6ff-3d4d-43d7-a811-78ad5f250cea"
   },
   "outputs": [
    {
     "data": {
      "text/plain": [
       "OrderedDict([('for', 3),\n",
       "             ('those', 1),\n",
       "             ('seeking', 1),\n",
       "             ('maintenance', 2),\n",
       "             ('free', 2),\n",
       "             ('living', 3),\n",
       "             ('in', 6),\n",
       "             ('the', 6),\n",
       "             ('heart', 1),\n",
       "             ('of', 3),\n",
       "             ('city', 1),\n",
       "             ('williamsburg', 3),\n",
       "             ('look', 1),\n",
       "             ('no', 1),\n",
       "             ('further', 1),\n",
       "             ('this', 4),\n",
       "             ('luxurious', 1),\n",
       "             ('condominium', 1),\n",
       "             ('is', 3),\n",
       "             ('located', 1),\n",
       "             ('a', 3),\n",
       "             ('short', 1),\n",
       "             ('two', 1),\n",
       "             ('mile', 1),\n",
       "             ('drive', 1),\n",
       "             ('or', 2),\n",
       "             ('walk', 2),\n",
       "             ('to', 5),\n",
       "             ('colonial', 1),\n",
       "             ('and', 6),\n",
       "             ('william', 1),\n",
       "             ('mary', 1),\n",
       "             ('1584', 1),\n",
       "             ('sq', 1),\n",
       "             ('ft', 1),\n",
       "             ('condo', 2),\n",
       "             ('perfect', 1),\n",
       "             ('spot', 1),\n",
       "             ('graduate', 1),\n",
       "             ('student', 1),\n",
       "             ('young', 1),\n",
       "             ('couple', 1),\n",
       "             ('retiree', 1),\n",
       "             ('anyone', 1),\n",
       "             ('between', 1),\n",
       "             ('all', 2),\n",
       "             ('one', 1),\n",
       "             ('level', 1),\n",
       "             ('unit', 2),\n",
       "             ('features', 1),\n",
       "             ('generous', 1),\n",
       "             ('sized', 1),\n",
       "             ('2', 2),\n",
       "             ('bedrooms', 1),\n",
       "             ('baths', 1),\n",
       "             ('natural', 1),\n",
       "             ('light', 1),\n",
       "             ('filled', 1),\n",
       "             ('room', 1),\n",
       "             ('upgraded', 1),\n",
       "             ('kitchen', 1),\n",
       "             ('with', 2),\n",
       "             ('stainless', 1),\n",
       "             ('appliances', 1),\n",
       "             ('granite', 1),\n",
       "             ('counters', 1),\n",
       "             ('crisp', 1),\n",
       "             ('white', 1),\n",
       "             ('cabinetry', 2),\n",
       "             ('single', 1),\n",
       "             ('owner', 1),\n",
       "             ('home', 2),\n",
       "             ('has', 2),\n",
       "             ('been', 1),\n",
       "             ('well', 1),\n",
       "             ('maintained', 1),\n",
       "             ('move', 1),\n",
       "             ('condition', 1),\n",
       "             ('hardwood', 1),\n",
       "             ('floors', 1),\n",
       "             ('plush', 1),\n",
       "             ('carpeting', 1),\n",
       "             ('built', 1),\n",
       "             ('are', 1),\n",
       "             ('just', 1),\n",
       "             ('few', 1),\n",
       "             ('upgrades', 1),\n",
       "             ('made', 1),\n",
       "             ('gorgeous', 1),\n",
       "             ('includes', 1),\n",
       "             ('attic', 1),\n",
       "             ('extra', 1),\n",
       "             ('storage', 1),\n",
       "             ('easy', 1),\n",
       "             ('access', 1),\n",
       "             ('offer', 1),\n",
       "             ('wooded', 1),\n",
       "             ('privacy', 1),\n",
       "             ('you', 1),\n",
       "             ('will', 1),\n",
       "             ('be', 1),\n",
       "             ('happy', 1),\n",
       "             ('call', 1),\n",
       "             ('woodlands', 1)])"
      ]
     },
     "execution_count": 34,
     "metadata": {},
     "output_type": "execute_result"
    }
   ],
   "source": [
    "# word_counts outputs a dictionary where keys are words and values are their respective counts\n",
    "t.word_counts"
   ]
  },
  {
   "cell_type": "code",
   "execution_count": null,
   "metadata": {
    "colab": {
     "base_uri": "https://localhost:8080/"
    },
    "id": "F8aby2iC7jN_",
    "outputId": "7cfba04b-62e1-42ce-ba2a-92a196c1943f"
   },
   "outputs": [
    {
     "data": {
      "text/plain": [
       "1"
      ]
     },
     "execution_count": 35,
     "metadata": {},
     "output_type": "execute_result"
    }
   ],
   "source": [
    "t.document_count"
   ]
  },
  {
   "cell_type": "code",
   "execution_count": null,
   "metadata": {
    "colab": {
     "base_uri": "https://localhost:8080/"
    },
    "id": "eDQvAohz7any",
    "outputId": "49183599-f907-42dd-af49-163c72ab97b9"
   },
   "outputs": [
    {
     "data": {
      "text/plain": [
       "defaultdict(int,\n",
       "            {'student': 1,\n",
       "             'sized': 1,\n",
       "             'owner': 1,\n",
       "             'with': 1,\n",
       "             'located': 1,\n",
       "             'drive': 1,\n",
       "             'young': 1,\n",
       "             'between': 1,\n",
       "             'storage': 1,\n",
       "             'bedrooms': 1,\n",
       "             'access': 1,\n",
       "             'colonial': 1,\n",
       "             'look': 1,\n",
       "             'no': 1,\n",
       "             'granite': 1,\n",
       "             'a': 1,\n",
       "             'luxurious': 1,\n",
       "             'seeking': 1,\n",
       "             'maintained': 1,\n",
       "             'white': 1,\n",
       "             'condo': 1,\n",
       "             'maintenance': 1,\n",
       "             'condition': 1,\n",
       "             'condominium': 1,\n",
       "             'walk': 1,\n",
       "             'and': 1,\n",
       "             'retiree': 1,\n",
       "             'perfect': 1,\n",
       "             'counters': 1,\n",
       "             'will': 1,\n",
       "             'features': 1,\n",
       "             'gorgeous': 1,\n",
       "             'privacy': 1,\n",
       "             'two': 1,\n",
       "             'filled': 1,\n",
       "             'for': 1,\n",
       "             'mary': 1,\n",
       "             '2': 1,\n",
       "             'generous': 1,\n",
       "             'further': 1,\n",
       "             'woodlands': 1,\n",
       "             'anyone': 1,\n",
       "             'are': 1,\n",
       "             'living': 1,\n",
       "             'been': 1,\n",
       "             '1584': 1,\n",
       "             'move': 1,\n",
       "             'or': 1,\n",
       "             'in': 1,\n",
       "             'sq': 1,\n",
       "             'has': 1,\n",
       "             'those': 1,\n",
       "             'heart': 1,\n",
       "             'level': 1,\n",
       "             'includes': 1,\n",
       "             'williamsburg': 1,\n",
       "             'offer': 1,\n",
       "             'hardwood': 1,\n",
       "             'single': 1,\n",
       "             'the': 1,\n",
       "             'to': 1,\n",
       "             'unit': 1,\n",
       "             'of': 1,\n",
       "             'home': 1,\n",
       "             'mile': 1,\n",
       "             'couple': 1,\n",
       "             'cabinetry': 1,\n",
       "             'be': 1,\n",
       "             'upgraded': 1,\n",
       "             'happy': 1,\n",
       "             'call': 1,\n",
       "             'just': 1,\n",
       "             'extra': 1,\n",
       "             'free': 1,\n",
       "             'light': 1,\n",
       "             'upgrades': 1,\n",
       "             'room': 1,\n",
       "             'floors': 1,\n",
       "             'plush': 1,\n",
       "             'wooded': 1,\n",
       "             'this': 1,\n",
       "             'william': 1,\n",
       "             'all': 1,\n",
       "             'well': 1,\n",
       "             'city': 1,\n",
       "             'appliances': 1,\n",
       "             'made': 1,\n",
       "             'short': 1,\n",
       "             'natural': 1,\n",
       "             'attic': 1,\n",
       "             'carpeting': 1,\n",
       "             'graduate': 1,\n",
       "             'crisp': 1,\n",
       "             'is': 1,\n",
       "             'few': 1,\n",
       "             'built': 1,\n",
       "             'easy': 1,\n",
       "             'baths': 1,\n",
       "             'stainless': 1,\n",
       "             'you': 1,\n",
       "             'spot': 1,\n",
       "             'ft': 1,\n",
       "             'one': 1,\n",
       "             'kitchen': 1})"
      ]
     },
     "execution_count": 26,
     "metadata": {},
     "output_type": "execute_result"
    }
   ],
   "source": [
    "# word_docs outputs a dictionary where keys are words and values are the number of documents each word appears in.\n",
    "t.word_docs"
   ]
  },
  {
   "cell_type": "code",
   "execution_count": null,
   "metadata": {
    "colab": {
     "base_uri": "https://localhost:8080/"
    },
    "id": "FqXXBaTY7ax2",
    "outputId": "bba224f5-530d-4a64-bcc8-e7af82559516"
   },
   "outputs": [
    {
     "data": {
      "text/plain": [
       "{'in': 1,\n",
       " 'the': 2,\n",
       " 'and': 3,\n",
       " 'to': 4,\n",
       " 'this': 5,\n",
       " 'for': 6,\n",
       " 'living': 7,\n",
       " 'of': 8,\n",
       " 'williamsburg': 9,\n",
       " 'is': 10,\n",
       " 'a': 11,\n",
       " 'maintenance': 12,\n",
       " 'free': 13,\n",
       " 'or': 14,\n",
       " 'walk': 15,\n",
       " 'condo': 16,\n",
       " 'all': 17,\n",
       " 'unit': 18,\n",
       " '2': 19,\n",
       " 'with': 20,\n",
       " 'cabinetry': 21,\n",
       " 'home': 22,\n",
       " 'has': 23,\n",
       " 'those': 24,\n",
       " 'seeking': 25,\n",
       " 'heart': 26,\n",
       " 'city': 27,\n",
       " 'look': 28,\n",
       " 'no': 29,\n",
       " 'further': 30,\n",
       " 'luxurious': 31,\n",
       " 'condominium': 32,\n",
       " 'located': 33,\n",
       " 'short': 34,\n",
       " 'two': 35,\n",
       " 'mile': 36,\n",
       " 'drive': 37,\n",
       " 'colonial': 38,\n",
       " 'william': 39,\n",
       " 'mary': 40,\n",
       " '1584': 41,\n",
       " 'sq': 42,\n",
       " 'ft': 43,\n",
       " 'perfect': 44,\n",
       " 'spot': 45,\n",
       " 'graduate': 46,\n",
       " 'student': 47,\n",
       " 'young': 48,\n",
       " 'couple': 49,\n",
       " 'retiree': 50,\n",
       " 'anyone': 51,\n",
       " 'between': 52,\n",
       " 'one': 53,\n",
       " 'level': 54,\n",
       " 'features': 55,\n",
       " 'generous': 56,\n",
       " 'sized': 57,\n",
       " 'bedrooms': 58,\n",
       " 'baths': 59,\n",
       " 'natural': 60,\n",
       " 'light': 61,\n",
       " 'filled': 62,\n",
       " 'room': 63,\n",
       " 'upgraded': 64,\n",
       " 'kitchen': 65,\n",
       " 'stainless': 66,\n",
       " 'appliances': 67,\n",
       " 'granite': 68,\n",
       " 'counters': 69,\n",
       " 'crisp': 70,\n",
       " 'white': 71,\n",
       " 'single': 72,\n",
       " 'owner': 73,\n",
       " 'been': 74,\n",
       " 'well': 75,\n",
       " 'maintained': 76,\n",
       " 'move': 77,\n",
       " 'condition': 78,\n",
       " 'hardwood': 79,\n",
       " 'floors': 80,\n",
       " 'plush': 81,\n",
       " 'carpeting': 82,\n",
       " 'built': 83,\n",
       " 'are': 84,\n",
       " 'just': 85,\n",
       " 'few': 86,\n",
       " 'upgrades': 87,\n",
       " 'made': 88,\n",
       " 'gorgeous': 89,\n",
       " 'includes': 90,\n",
       " 'attic': 91,\n",
       " 'extra': 92,\n",
       " 'storage': 93,\n",
       " 'easy': 94,\n",
       " 'access': 95,\n",
       " 'offer': 96,\n",
       " 'wooded': 97,\n",
       " 'privacy': 98,\n",
       " 'you': 99,\n",
       " 'will': 100,\n",
       " 'be': 101,\n",
       " 'happy': 102,\n",
       " 'call': 103,\n",
       " 'woodlands': 104}"
      ]
     },
     "execution_count": 27,
     "metadata": {},
     "output_type": "execute_result"
    }
   ],
   "source": [
    "# word_index provides a dictionary where the keys are the words in your corpus (human language dictionary), and the values are the corresponding integer indices assigned to those words.\n",
    "t.word_index"
   ]
  },
  {
   "cell_type": "markdown",
   "metadata": {
    "id": "hEwNv7_IrOCh"
   },
   "source": []
  },
  {
   "cell_type": "code",
   "execution_count": null,
   "metadata": {},
   "outputs": [],
   "source": []
  }
 ],
 "metadata": {
  "colab": {
   "provenance": []
  },
  "kernelspec": {
   "display_name": "Python 3 (ipykernel)",
   "language": "python",
   "name": "python3"
  },
  "language_info": {
   "codemirror_mode": {
    "name": "ipython",
    "version": 3
   },
   "file_extension": ".py",
   "mimetype": "text/x-python",
   "name": "python",
   "nbconvert_exporter": "python",
   "pygments_lexer": "ipython3",
   "version": "3.11.1"
  }
 },
 "nbformat": 4,
 "nbformat_minor": 1
}
