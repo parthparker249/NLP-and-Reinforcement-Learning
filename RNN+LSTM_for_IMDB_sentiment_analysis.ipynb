{
 "cells": [
  {
   "cell_type": "markdown",
   "metadata": {
    "id": "4JOPDvZxxcbI"
   },
   "source": [
    "# Sentiment Analysis\n",
    "Building a series of RNN models for sentiment analysis with IMDB reviews"
   ]
  },
  {
   "cell_type": "code",
   "execution_count": null,
   "metadata": {
    "id": "Sk539ooOpL_O"
   },
   "outputs": [],
   "source": [
    "import os\n",
    "os.environ['TF_CPP_MIN_LOG_LEVEL'] = '3'\n",
    "\n",
    "import random\n",
    "import numpy as np\n",
    "import tensorflow as tf\n",
    "\n",
    "random.seed(1693)\n",
    "np.random.seed(1693)\n",
    "tf.random.set_seed(1693)\n",
    "\n",
    "from tensorflow.keras.preprocessing import sequence\n",
    "from tensorflow.keras.models import Sequential\n",
    "from tensorflow.keras.layers import Dense, Embedding, SimpleRNN\n",
    "from tensorflow.keras.layers import LSTM\n",
    "#from tensorflow.keras.layers import TimeDistributed\n",
    "from tensorflow.keras.datasets import imdb\n",
    "import matplotlib.pyplot as plt\n",
    "import datetime as dt"
   ]
  },
  {
   "cell_type": "markdown",
   "metadata": {
    "id": "E0hsKo0-yCIv"
   },
   "source": [
    "# Step 1: Load & Prep Dataframes\n",
    "\n",
    "Read the IMDB data directly from Keras's datasets module\n",
    "\n",
    "Officiall documentation here: https://keras.io/api/datasets/imdb/"
   ]
  },
  {
   "cell_type": "code",
   "execution_count": null,
   "metadata": {
    "id": "TQzo6OZvuq7S"
   },
   "outputs": [],
   "source": [
    "# [Hyperparameter Tuning Zone]\n",
    "max_features = 10000 # Limit dictionary size to 10000 most frequently used words and tokens\n",
    "maxlen = 80 # Set sequence length to 80\n",
    "batch_size = 128\n",
    "num_epochs = 10"
   ]
  },
  {
   "cell_type": "code",
   "execution_count": null,
   "metadata": {
    "colab": {
     "base_uri": "https://localhost:8080/"
    },
    "id": "dl3KnwDWuyqB",
    "outputId": "696c8d25-b884-4726-95da-210268b577d1"
   },
   "outputs": [
    {
     "name": "stdout",
     "output_type": "stream",
     "text": [
      "Downloading data from https://storage.googleapis.com/tensorflow/tf-keras-datasets/imdb.npz\n",
      "17464789/17464789 [==============================] - 0s 0us/step\n",
      "25000 train sequences\n",
      "25000 test sequences\n",
      "[1, 14, 22, 16, 43, 530, 973, 1622, 1385, 65, 458, 4468]\n"
     ]
    }
   ],
   "source": [
    "# This module allows you to split data automatically while reading in the dataset\n",
    "(x_train, y_train), (x_test, y_test) = imdb.load_data(num_words=max_features) # specify the size of dictionary\n",
    "print(len(x_train), 'train sequences')\n",
    "print(len(x_test), 'test sequences')\n",
    "print(x_train[0][:12]) # Inspect the first 12 words in the first document. It's a vector of numbers between 0-9999, referring to words in the dictionary"
   ]
  },
  {
   "cell_type": "code",
   "execution_count": null,
   "metadata": {
    "colab": {
     "base_uri": "https://localhost:8080/"
    },
    "id": "-_uQ09PupFNP",
    "outputId": "a517e92f-2662-48ab-8f07-d4c00336e3ea"
   },
   "outputs": [
    {
     "name": "stdout",
     "output_type": "stream",
     "text": [
      "[1, 778, 128, 74, 12, 630, 163, 15, 4, 1766, 7982, 1051, 2, 32, 85, 156, 45, 40, 148, 139, 121, 664, 665, 10, 10, 1361, 173, 4, 749, 2, 16, 3804, 8, 4, 226, 65, 12, 43, 127, 24, 2, 10, 10]\n"
     ]
    }
   ],
   "source": [
    "# Taking a look at a record\n",
    "print(x_train[5])"
   ]
  },
  {
   "cell_type": "markdown",
   "metadata": {
    "id": "v4_zyQl017O0"
   },
   "source": [
    "# Step 2: Prep train vs. test sets"
   ]
  },
  {
   "cell_type": "code",
   "execution_count": null,
   "metadata": {
    "colab": {
     "base_uri": "https://localhost:8080/"
    },
    "id": "Kpn7WxKOu3pi",
    "outputId": "b6838587-431e-40ab-af00-8107c9326e2a"
   },
   "outputs": [
    {
     "name": "stdout",
     "output_type": "stream",
     "text": [
      "x_train shape: (25000, 80)\n",
      "x_test shape: (25000, 80)\n"
     ]
    },
    {
     "data": {
      "text/plain": [
       "(25000,)"
      ]
     },
     "execution_count": 6,
     "metadata": {},
     "output_type": "execute_result"
    }
   ],
   "source": [
    "# Pad the sequences so they are of the same lengths\n",
    "x_train = sequence.pad_sequences(x_train, maxlen=maxlen, padding='pre') # pre = pad before sentence; post = pad after sentence\n",
    "x_test = sequence.pad_sequences(x_test, maxlen=maxlen, padding='pre')\n",
    "print('x_train shape:', x_train.shape)\n",
    "print('x_test shape:', x_test.shape)\n",
    "y_train.shape"
   ]
  },
  {
   "cell_type": "code",
   "execution_count": null,
   "metadata": {
    "colab": {
     "base_uri": "https://localhost:8080/"
    },
    "id": "ZjxBikFCWWzb",
    "outputId": "f2110fde-92c5-477f-884b-dc7c06cf2297"
   },
   "outputs": [
    {
     "name": "stdout",
     "output_type": "stream",
     "text": [
      "[   0    0    0    0    0    0    0    0    0    0    0    0    0    0\n",
      "    0    0    0    0    0    0    0    0    0    0    0    0    0    0\n",
      "    0    0    0    0    0    0    0    0    0    1  778  128   74   12\n",
      "  630  163   15    4 1766 7982 1051    2   32   85  156   45   40  148\n",
      "  139  121  664  665   10   10 1361  173    4  749    2   16 3804    8\n",
      "    4  226   65   12   43  127   24    2   10   10]\n"
     ]
    }
   ],
   "source": [
    "print(x_train[5])"
   ]
  },
  {
   "cell_type": "markdown",
   "metadata": {
    "id": "DCiqIIJB2BCG"
   },
   "source": [
    "# Step 3: Train model"
   ]
  },
  {
   "cell_type": "markdown",
   "metadata": {
    "id": "WvR9riBP2woD"
   },
   "source": [
    "## Model 1 = fully-connected dense NN without embedding"
   ]
  },
  {
   "cell_type": "code",
   "execution_count": null,
   "metadata": {
    "colab": {
     "base_uri": "https://localhost:8080/"
    },
    "id": "sBq40tnx2XRM",
    "outputId": "b13fdf59-622f-4d45-8990-1ee2797f38eb"
   },
   "outputs": [
    {
     "name": "stdout",
     "output_type": "stream",
     "text": [
      "Model: \"sequential\"\n",
      "_________________________________________________________________\n",
      " Layer (type)                Output Shape              Param #   \n",
      "=================================================================\n",
      " dense (Dense)               (None, 16)                1296      \n",
      "                                                                 \n",
      " dense_1 (Dense)             (None, 16)                272       \n",
      "                                                                 \n",
      " dense_2 (Dense)             (None, 1)                 17        \n",
      "                                                                 \n",
      "=================================================================\n",
      "Total params: 1585 (6.19 KB)\n",
      "Trainable params: 1585 (6.19 KB)\n",
      "Non-trainable params: 0 (0.00 Byte)\n",
      "_________________________________________________________________\n"
     ]
    }
   ],
   "source": [
    "model1 = Sequential()\n",
    "model1.add(Dense(16, activation =\"relu\", input_dim = maxlen))\n",
    "model1.add(Dense(16, activation =\"relu\"))\n",
    "model1.add(Dense(1, activation =\"sigmoid\"))\n",
    "model1.summary()"
   ]
  },
  {
   "cell_type": "code",
   "execution_count": null,
   "metadata": {
    "id": "uO-QGLQ33j6s"
   },
   "outputs": [],
   "source": [
    "model1.compile(loss='binary_crossentropy',\n",
    "              optimizer='rmsprop',\n",
    "              metrics=['accuracy'])"
   ]
  },
  {
   "cell_type": "code",
   "execution_count": null,
   "metadata": {
    "colab": {
     "base_uri": "https://localhost:8080/"
    },
    "id": "AE8fXHLt4qVS",
    "outputId": "02b0719a-1d59-4e8d-89fb-fe6ab0781bb2"
   },
   "outputs": [
    {
     "name": "stdout",
     "output_type": "stream",
     "text": [
      "Epoch 1/10\n",
      "196/196 - 1s - loss: 100.8426 - accuracy: 0.4994 - 1s/epoch - 7ms/step\n",
      "Epoch 2/10\n",
      "196/196 - 0s - loss: 5.3059 - accuracy: 0.5012 - 432ms/epoch - 2ms/step\n",
      "Epoch 3/10\n",
      "196/196 - 0s - loss: 1.3890 - accuracy: 0.5038 - 452ms/epoch - 2ms/step\n",
      "Epoch 4/10\n",
      "196/196 - 0s - loss: 0.8304 - accuracy: 0.4986 - 345ms/epoch - 2ms/step\n",
      "Epoch 5/10\n",
      "196/196 - 0s - loss: 0.7214 - accuracy: 0.5006 - 392ms/epoch - 2ms/step\n",
      "Epoch 6/10\n",
      "196/196 - 0s - loss: 0.7037 - accuracy: 0.4996 - 401ms/epoch - 2ms/step\n",
      "Epoch 7/10\n",
      "196/196 - 0s - loss: 0.6989 - accuracy: 0.4962 - 356ms/epoch - 2ms/step\n",
      "Epoch 8/10\n",
      "196/196 - 0s - loss: 0.6976 - accuracy: 0.4978 - 346ms/epoch - 2ms/step\n",
      "Epoch 9/10\n",
      "196/196 - 0s - loss: 0.6967 - accuracy: 0.4978 - 369ms/epoch - 2ms/step\n",
      "Epoch 10/10\n",
      "196/196 - 0s - loss: 0.6949 - accuracy: 0.5016 - 368ms/epoch - 2ms/step\n",
      "datetime thinks the program ran for 0:00:06.159238\n"
     ]
    }
   ],
   "source": [
    "np.random.seed(1693) # Go Tribe!\n",
    "start_time = dt.datetime.now() # Measuring run time using datetime library\n",
    "\n",
    "# Saving model.fit result as the object estimate\n",
    "estimate = model1.fit(x_train,\n",
    "                     y_train,\n",
    "                     epochs=num_epochs, # more epochs will take longer to run\n",
    "                     verbose=2, # change to 1 or 2 to see more details\n",
    "                     batch_size=batch_size,\n",
    "                     #validation_data=(x_test,y_test)\n",
    "                     )\n",
    "# print(estimate.history)\n",
    "stop_time=dt.datetime.now()\n",
    "print(\"datetime thinks the program ran for \" + str(stop_time - start_time))"
   ]
  },
  {
   "cell_type": "markdown",
   "metadata": {
    "id": "Ltf7x6_SAUbn"
   },
   "source": [
    "## Model 2 = RNN with embedding"
   ]
  },
  {
   "cell_type": "code",
   "execution_count": null,
   "metadata": {
    "colab": {
     "base_uri": "https://localhost:8080/"
    },
    "id": "gnjHamuOAi5n",
    "outputId": "e5659685-be6c-4698-8cb7-e5d10e46e4f2"
   },
   "outputs": [
    {
     "name": "stdout",
     "output_type": "stream",
     "text": [
      "Model: \"sequential_3\"\n",
      "_________________________________________________________________\n",
      " Layer (type)                Output Shape              Param #   \n",
      "=================================================================\n",
      " embedding_2 (Embedding)     (None, None, 3)           30000     \n",
      "                                                                 \n",
      " simple_rnn (SimpleRNN)      (None, 3)                 21        \n",
      "                                                                 \n",
      " dense_3 (Dense)             (None, 1)                 4         \n",
      "                                                                 \n",
      "=================================================================\n",
      "Total params: 30025 (117.29 KB)\n",
      "Trainable params: 30025 (117.29 KB)\n",
      "Non-trainable params: 0 (0.00 Byte)\n",
      "_________________________________________________________________\n"
     ]
    }
   ],
   "source": [
    "model2 = Sequential()\n",
    "model2.add(Embedding(input_dim=10000, # 10000 one-hot coded X features\n",
    "                    output_dim=3)) # output is 3-D embedding values\n",
    "model2.add(SimpleRNN(3, activation='relu'))\n",
    "model2.add(Dense(1, activation =\"sigmoid\"))\n",
    "model2.summary()"
   ]
  },
  {
   "cell_type": "code",
   "execution_count": null,
   "metadata": {
    "colab": {
     "base_uri": "https://localhost:8080/"
    },
    "id": "N5k17-QXJvxA",
    "outputId": "2e05df1d-72e3-46fb-f83c-c6390c766628"
   },
   "outputs": [
    {
     "name": "stdout",
     "output_type": "stream",
     "text": [
      "Epoch 1/10\n",
      "196/196 - 8s - loss: 0.6902 - accuracy: 0.5424 - val_loss: 0.6870 - val_accuracy: 0.5549 - 8s/epoch - 40ms/step\n",
      "Epoch 2/10\n",
      "196/196 - 5s - loss: 0.6788 - accuracy: 0.5912 - val_loss: 0.6772 - val_accuracy: 0.5800 - 5s/epoch - 25ms/step\n",
      "Epoch 3/10\n",
      "196/196 - 6s - loss: 0.6608 - accuracy: 0.6290 - val_loss: 0.6666 - val_accuracy: 0.5885 - 6s/epoch - 31ms/step\n",
      "Epoch 4/10\n",
      "196/196 - 5s - loss: 0.6406 - accuracy: 0.6546 - val_loss: 0.6595 - val_accuracy: 0.5933 - 5s/epoch - 24ms/step\n",
      "Epoch 5/10\n",
      "196/196 - 5s - loss: 0.6218 - accuracy: 0.6710 - val_loss: 0.6561 - val_accuracy: 0.5947 - 5s/epoch - 25ms/step\n",
      "Epoch 6/10\n",
      "196/196 - 7s - loss: 0.6053 - accuracy: 0.6828 - val_loss: 0.6562 - val_accuracy: 0.5959 - 7s/epoch - 35ms/step\n",
      "Epoch 7/10\n",
      "196/196 - 5s - loss: 0.5908 - accuracy: 0.6931 - val_loss: 0.6598 - val_accuracy: 0.5950 - 5s/epoch - 24ms/step\n",
      "Epoch 8/10\n",
      "196/196 - 6s - loss: 0.5783 - accuracy: 0.7030 - val_loss: 0.6632 - val_accuracy: 0.5967 - 6s/epoch - 30ms/step\n",
      "Epoch 9/10\n",
      "196/196 - 5s - loss: 0.5673 - accuracy: 0.7120 - val_loss: 0.6697 - val_accuracy: 0.5978 - 5s/epoch - 23ms/step\n",
      "Epoch 10/10\n",
      "196/196 - 6s - loss: 0.5571 - accuracy: 0.7207 - val_loss: 0.6752 - val_accuracy: 0.5958 - 6s/epoch - 31ms/step\n",
      "Time required for training: 0:01:23.582656\n"
     ]
    }
   ],
   "source": [
    "start_time = dt.datetime.now()\n",
    "model2.compile(loss='binary_crossentropy',\n",
    "              optimizer='rmsprop',\n",
    "              metrics=['accuracy'])\n",
    "\n",
    "estimate = model2.fit(x_train,\n",
    "                    y_train,\n",
    "                    batch_size=batch_size,\n",
    "                    epochs=num_epochs,\n",
    "                    validation_data=(x_test, y_test),\n",
    "                    verbose = 2)\n",
    "# Model takes a while to compile on my computer, may take lesser on HPC environment.\n",
    "stop_time = dt.datetime.now()\n",
    "print (\"Time required for training:\",stop_time - start_time)\n"
   ]
  },
  {
   "cell_type": "markdown",
   "metadata": {
    "id": "3b0W8M1LtqJ2"
   },
   "source": [
    "## Model 3 = LSTM"
   ]
  },
  {
   "cell_type": "code",
   "execution_count": null,
   "metadata": {
    "colab": {
     "base_uri": "https://localhost:8080/"
    },
    "id": "gqaEpp6ru-Bd",
    "outputId": "257a0c94-73ab-4b93-ac8d-2153d32b9195"
   },
   "outputs": [
    {
     "name": "stdout",
     "output_type": "stream",
     "text": [
      "Model: \"sequential_4\"\n",
      "_________________________________________________________________\n",
      " Layer (type)                Output Shape              Param #   \n",
      "=================================================================\n",
      " embedding_3 (Embedding)     (None, None, 128)         1280000   \n",
      "                                                                 \n",
      " lstm (LSTM)                 (None, 128)               131584    \n",
      "                                                                 \n",
      " dense_4 (Dense)             (None, 1)                 129       \n",
      "                                                                 \n",
      "=================================================================\n",
      "Total params: 1411713 (5.39 MB)\n",
      "Trainable params: 1411713 (5.39 MB)\n",
      "Non-trainable params: 0 (0.00 Byte)\n",
      "_________________________________________________________________\n"
     ]
    }
   ],
   "source": [
    "model3 = Sequential()\n",
    "model3.add(Embedding(input_dim=max_features,\n",
    "                    output_dim=128))\n",
    "model3.add(LSTM(128,\n",
    "               dropout=0.2,\n",
    "               recurrent_dropout=0.0,\n",
    "               recurrent_activation=\"sigmoid\",\n",
    "               activation=\"tanh\",\n",
    "               use_bias=True,\n",
    "               unroll=False))\n",
    "model3.add(Dense(1, activation='sigmoid'))\n",
    "model3.summary()"
   ]
  },
  {
   "cell_type": "code",
   "execution_count": null,
   "metadata": {
    "colab": {
     "base_uri": "https://localhost:8080/"
    },
    "id": "2isRfO0LvDHw",
    "outputId": "1a48349f-92b0-4138-a409-b0159d49c11a"
   },
   "outputs": [
    {
     "name": "stdout",
     "output_type": "stream",
     "text": [
      "Epoch 1/10\n",
      "196/196 [==============================] - 102s 504ms/step - loss: 0.4493 - accuracy: 0.7796 - val_loss: 0.4003 - val_accuracy: 0.8160\n",
      "Epoch 2/10\n",
      "196/196 [==============================] - 114s 584ms/step - loss: 0.2882 - accuracy: 0.8834 - val_loss: 0.3899 - val_accuracy: 0.8356\n",
      "Epoch 3/10\n",
      "196/196 [==============================] - 113s 576ms/step - loss: 0.2222 - accuracy: 0.9135 - val_loss: 0.3839 - val_accuracy: 0.8367\n",
      "Epoch 4/10\n",
      "196/196 [==============================] - 115s 587ms/step - loss: 0.1681 - accuracy: 0.9385 - val_loss: 0.5229 - val_accuracy: 0.8224\n",
      "Epoch 5/10\n",
      "196/196 [==============================] - 115s 586ms/step - loss: 0.1296 - accuracy: 0.9532 - val_loss: 0.5219 - val_accuracy: 0.8229\n",
      "Epoch 6/10\n",
      "196/196 [==============================] - 114s 583ms/step - loss: 0.1003 - accuracy: 0.9646 - val_loss: 0.6215 - val_accuracy: 0.8180\n",
      "Epoch 7/10\n",
      "196/196 [==============================] - 93s 475ms/step - loss: 0.0773 - accuracy: 0.9730 - val_loss: 0.7645 - val_accuracy: 0.8142\n",
      "Epoch 8/10\n",
      "196/196 [==============================] - 113s 577ms/step - loss: 0.0660 - accuracy: 0.9763 - val_loss: 0.9079 - val_accuracy: 0.8042\n",
      "Epoch 9/10\n",
      "196/196 [==============================] - 115s 586ms/step - loss: 0.0615 - accuracy: 0.9777 - val_loss: 0.8794 - val_accuracy: 0.8113\n",
      "Epoch 10/10\n",
      "196/196 [==============================] - 116s 591ms/step - loss: 0.0407 - accuracy: 0.9866 - val_loss: 0.9186 - val_accuracy: 0.7989\n",
      "Time required for training: 0:18:28.714391\n"
     ]
    }
   ],
   "source": [
    "start_time = dt.datetime.now()\n",
    "model3.compile(loss='binary_crossentropy',\n",
    "              optimizer='adam',\n",
    "              metrics=['accuracy'])\n",
    "\n",
    "estimate = model3.fit(x_train,\n",
    "                     y_train,\n",
    "                     batch_size=batch_size,\n",
    "                     epochs=num_epochs,\n",
    "                     validation_data=(x_test, y_test))\n",
    "\n",
    "# Takes long to run.\n",
    "stop_time = dt.datetime.now()\n",
    "print (\"Time required for training:\",stop_time - start_time)"
   ]
  },
  {
   "cell_type": "markdown",
   "metadata": {
    "id": "V5-180rlNt8v"
   },
   "source": [
    "# Step 4: Evaluate Model Performance"
   ]
  },
  {
   "cell_type": "code",
   "execution_count": null,
   "metadata": {
    "colab": {
     "base_uri": "https://localhost:8080/",
     "height": 940
    },
    "id": "R9L8jnDtvH7m",
    "outputId": "aec82f5f-bf2e-421a-a769-890944cc0273"
   },
   "outputs": [
    {
     "name": "stdout",
     "output_type": "stream",
     "text": [
      "196/196 [==============================] - 25s 127ms/step - loss: 0.9186 - accuracy: 0.7989\n",
      "Test score: 0.9186033606529236\n",
      "Test accuracy: 0.7989199757575989\n"
     ]
    },
    {
     "data": {
      "image/png": "[encoded data removed]",
      "text/plain": [
       "<Figure size 640x480 with 1 Axes>"
      ]
     },
     "metadata": {},
     "output_type": "display_data"
    },
    {
     "data": {
      "image/png": "[encoded data removed]",
      "text/plain": [
       "<Figure size 640x480 with 1 Axes>"
      ]
     },
     "metadata": {},
     "output_type": "display_data"
    }
   ],
   "source": [
    "score, accuracy = model3.evaluate(x_test,\n",
    "                                 y_test,\n",
    "                                 batch_size=batch_size)\n",
    "print('Test score:', score)\n",
    "print('Test accuracy:', accuracy)\n",
    "\n",
    "acc = estimate.history['accuracy']\n",
    "val_acc = estimate.history['val_accuracy']\n",
    "loss = estimate.history['loss']\n",
    "val_loss = estimate.history['val_loss']\n",
    "\n",
    "epochs = range(len(acc))\n",
    "\n",
    "plt.plot(epochs, acc, 'bo', label='Training acc')\n",
    "plt.plot(epochs, val_acc, 'b', label='Validation acc')\n",
    "plt.title('Training and validation accuracy')\n",
    "plt.legend()\n",
    "\n",
    "plt.figure()\n",
    "\n",
    "plt.plot(epochs, loss, 'bo', label='Training loss')\n",
    "plt.plot(epochs, val_loss, 'b', label='Validation loss')\n",
    "plt.title('Training and validation loss')\n",
    "plt.legend()\n",
    "\n",
    "plt.show()"
   ]
  }
 ],
 "metadata": {
  "colab": {
   "provenance": []
  },
  "kernelspec": {
   "display_name": "Python 3 (ipykernel)",
   "language": "python",
   "name": "python3"
  },
  "language_info": {
   "codemirror_mode": {
    "name": "ipython",
    "version": 3
   },
   "file_extension": ".py",
   "mimetype": "text/x-python",
   "name": "python",
   "nbconvert_exporter": "python",
   "pygments_lexer": "ipython3",
   "version": "3.11.1"
  }
 },
 "nbformat": 4,
 "nbformat_minor": 1
}
