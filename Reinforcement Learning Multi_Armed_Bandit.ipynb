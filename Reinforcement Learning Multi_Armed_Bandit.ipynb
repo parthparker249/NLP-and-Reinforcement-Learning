{
 "cells": [
  {
   "cell_type": "markdown",
   "metadata": {
    "id": "cZr_STfdyHVR"
   },
   "source": [
    "# Multi-armed bandit: a classic RL problem. <br>"
   ]
  },
  {
   "cell_type": "code",
   "execution_count": null,
   "metadata": {
    "id": "u69R0qx0Xxnp"
   },
   "outputs": [],
   "source": [
    "import numpy as np\n",
    "import random\n",
    "import matplotlib.pyplot as plt\n",
    "%matplotlib inline\n",
    "np.random.seed(1693)\n",
    "# np.random.normal() is a different function from random.normal()\n",
    "# np is a library. random is a different library.\n",
    "# np library has a module called random.\n"
   ]
  },
  {
   "cell_type": "code",
   "execution_count": null,
   "metadata": {
    "id": "_o3rN2xiX7ju"
   },
   "outputs": [],
   "source": [
    "# Declare global variables\n",
    "n = 2 # number of arms\n",
    "arms = [.5, .7] # probability of getting a banana from each arm\n",
    "eps = 0.2 # epsilon is the probability of exploration action (which means 80% exploitation)"
   ]
  },
  {
   "cell_type": "code",
   "execution_count": null,
   "metadata": {
    "colab": {
     "base_uri": "https://localhost:8080/"
    },
    "id": "VR7jBv1rYAuD",
    "outputId": "6623636d-aaad-4147-cb9e-5c4afff78165"
   },
   "outputs": [
    {
     "data": {
      "text/plain": [
       "0.5"
      ]
     },
     "execution_count": 51,
     "metadata": {},
     "output_type": "execute_result"
    }
   ],
   "source": [
    "arms[0]"
   ]
  },
  {
   "cell_type": "code",
   "execution_count": null,
   "metadata": {
    "colab": {
     "base_uri": "https://localhost:8080/"
    },
    "id": "-54QDw6yMyjk",
    "outputId": "6208f046-b2f0-48b1-83d9-16b8d966cfda"
   },
   "outputs": [
    {
     "data": {
      "text/plain": [
       "0.7"
      ]
     },
     "execution_count": 53,
     "metadata": {},
     "output_type": "execute_result"
    }
   ],
   "source": [
    "arms[1]"
   ]
  },
  {
   "cell_type": "code",
   "execution_count": null,
   "metadata": {
    "id": "_Zock6sDYC4A"
   },
   "outputs": [],
   "source": [
    "# Define the environment (world) that generates the reward function\n",
    "# This model of the environment may or may not be visible (or known) to the agent\n",
    "# This reward function simulates randomly generated reward for an arm (with a given prob)\n",
    "# For each arm, you try 5 times, and generate a random float every time.\n",
    "# If this random number is less than the probability of that arm, you'll add a 1 to the reward.\n",
    "# After all iterations, you'll have a reward value between 0 to 5.\n",
    "def reward(prob): # prob is the probability of a given arm\n",
    "    n_iterations = 5\n",
    "    reward = 0\n",
    "    for i in range(n_iterations):\n",
    "        if random.random() < prob:\n",
    "            reward += 1\n",
    "    return reward"
   ]
  },
  {
   "cell_type": "code",
   "execution_count": null,
   "metadata": {
    "colab": {
     "base_uri": "https://localhost:8080/"
    },
    "id": "wb6_WLbFBIEY",
    "outputId": "7a2da853-d6bf-46ff-c6a1-38b66752ad94"
   },
   "outputs": [
    {
     "data": {
      "text/plain": [
       "3"
      ]
     },
     "execution_count": 84,
     "metadata": {},
     "output_type": "execute_result"
    }
   ],
   "source": [
    "# Try the reward function with different prob input values\n",
    "reward(arms[1])"
   ]
  },
  {
   "cell_type": "code",
   "execution_count": null,
   "metadata": {
    "colab": {
     "base_uri": "https://localhost:8080/"
    },
    "id": "szAf6lUsYOi4",
    "outputId": "3302060f-a666-4a99-e80b-164ce12ba4aa"
   },
   "outputs": [
    {
     "data": {
      "text/plain": [
       "array([[1, 0]])"
      ]
     },
     "execution_count": 93,
     "metadata": {},
     "output_type": "execute_result"
    }
   ],
   "source": [
    "# Initialize memory array (Q-Table) (2xk matrix) for storing action (arm) -value (reward) pairs (av)\n",
    "# memory array stores history of all actions & rewards\n",
    "# eacg row = an index reference to the arms array (1st element), and the reward received (2nd element)\n",
    "# Example: row x = [1, 8] means\n",
    "# action 1 was taken (the 2nd element in our arms array)\n",
    "# you received a reward of 8 for taking that action\n",
    "# has 1 row defaulted to random action index\n",
    "\n",
    "# Use arm 0 as starting point\n",
    "starting_arm=1\n",
    "starting_reward=0\n",
    "av = np.array([starting_arm, starting_reward]).reshape(1,2)\n",
    "# av should be of dimension 1 row x 2 columns\n",
    "# element 1 = reference to arms array = a randomly chosen integer between 0 and n+1\n",
    "# element 2 = reward = initial value of zero\n",
    "av"
   ]
  },
  {
   "cell_type": "markdown",
   "metadata": {
    "id": "vGaNq695ZKUR"
   },
   "source": []
  },
  {
   "cell_type": "code",
   "execution_count": null,
   "metadata": {
    "id": "CxpWGKmzYXKt"
   },
   "outputs": [],
   "source": [
    "# Define greedy policy (100% exploitation) for the agent (monkey) to select best arm based on memory array (Q-table)\n",
    "# best arm is defined as the arm that gives the most bananas on average\n",
    "# input argument a = memory array (av from above)\n",
    "def bestArm(a):\n",
    "    bestArm = 1 #default to 0\n",
    "    bestMean = 0 # the curerent bestMean\n",
    "    for u in a: # Iterate through each record of av [a,v]\n",
    "      # u[0] = action ID (arm 0 or arm 1)\n",
    "      # u[1] = reward (value)\n",
    "      this_action=a[np.where(a[:,0] == u[0])] # Select all records with action u[0] (column 0) and save them into a new matrix called \"this_action\"\n",
    "      avg = np.mean(this_action[:, 1]) # Calculate mean reward for this action (reward value is in column 1)\n",
    "      #print('avg = '+str(avg))\n",
    "      if bestMean < avg:\n",
    "          bestMean = avg\n",
    "          bestArm = u[0]\n",
    "    return bestArm\n"
   ]
  },
  {
   "cell_type": "code",
   "execution_count": null,
   "metadata": {
    "colab": {
     "base_uri": "https://localhost:8080/"
    },
    "id": "RK8MDadnQE-s",
    "outputId": "39a3a1ad-b488-43e3-dacd-80cf3db25d5a"
   },
   "outputs": [
    {
     "data": {
      "text/plain": [
       "array([[1, 0]])"
      ]
     },
     "execution_count": 95,
     "metadata": {},
     "output_type": "execute_result"
    }
   ],
   "source": [
    "av"
   ]
  },
  {
   "cell_type": "code",
   "execution_count": null,
   "metadata": {
    "colab": {
     "base_uri": "https://localhost:8080/"
    },
    "id": "dw4qykVQCrpT",
    "outputId": "9340240d-788b-4c10-bb70-1824f2cf65a3"
   },
   "outputs": [
    {
     "name": "stdout",
     "output_type": "stream",
     "text": [
      "[[1 0]\n",
      " [1 3]\n",
      " [1 2]\n",
      " [1 4]\n",
      " [1 5]\n",
      " [1 4]\n",
      " [1 4]\n",
      " [1 3]\n",
      " [1 4]\n",
      " [1 3]\n",
      " [1 3]\n",
      " [1 2]\n",
      " [1 3]\n",
      " [1 4]\n",
      " [1 4]\n",
      " [1 2]\n",
      " [1 5]\n",
      " [1 3]\n",
      " [1 4]\n",
      " [1 5]\n",
      " [1 4]\n",
      " [1 4]\n",
      " [1 2]\n",
      " [1 3]\n",
      " [1 4]\n",
      " [1 5]\n",
      " [1 3]\n",
      " [1 3]\n",
      " [1 3]\n",
      " [1 4]\n",
      " [1 4]\n",
      " [1 5]\n",
      " [1 3]\n",
      " [1 2]\n",
      " [1 5]\n",
      " [1 4]\n",
      " [1 5]\n",
      " [1 2]\n",
      " [1 4]\n",
      " [1 3]\n",
      " [1 5]\n",
      " [1 4]\n",
      " [1 4]\n",
      " [1 3]\n",
      " [1 2]\n",
      " [1 2]\n",
      " [1 4]\n",
      " [1 4]\n",
      " [1 3]\n",
      " [1 4]\n",
      " [1 4]\n",
      " [1 4]\n",
      " [1 4]\n",
      " [1 3]\n",
      " [1 4]\n",
      " [1 4]\n",
      " [1 4]\n",
      " [1 4]\n",
      " [1 4]\n",
      " [1 3]\n",
      " [1 1]\n",
      " [1 3]\n",
      " [1 3]\n",
      " [1 3]\n",
      " [1 4]\n",
      " [1 3]\n",
      " [1 4]\n",
      " [1 3]\n",
      " [1 4]\n",
      " [1 2]\n",
      " [1 3]\n",
      " [1 4]\n",
      " [1 4]\n",
      " [1 2]\n",
      " [1 4]\n",
      " [1 4]\n",
      " [1 3]\n",
      " [1 5]\n",
      " [1 2]\n",
      " [1 5]\n",
      " [1 3]\n",
      " [1 5]\n",
      " [1 3]\n",
      " [1 4]\n",
      " [1 4]\n",
      " [1 3]\n",
      " [1 4]\n",
      " [1 5]\n",
      " [1 4]\n",
      " [1 4]\n",
      " [1 3]\n",
      " [1 5]\n",
      " [1 4]\n",
      " [1 5]\n",
      " [1 4]\n",
      " [1 2]\n",
      " [1 2]\n",
      " [1 3]\n",
      " [1 2]\n",
      " [1 4]\n",
      " [1 3]\n",
      " [1 4]\n",
      " [1 2]\n",
      " [1 2]\n",
      " [1 4]\n",
      " [1 2]\n",
      " [1 4]\n",
      " [1 4]\n",
      " [1 2]\n",
      " [1 5]\n",
      " [1 5]\n",
      " [1 3]\n",
      " [1 4]\n",
      " [1 2]\n",
      " [1 3]\n",
      " [1 5]\n",
      " [1 3]\n",
      " [1 1]\n",
      " [1 2]\n",
      " [1 4]\n",
      " [1 5]\n",
      " [1 4]\n",
      " [1 4]\n",
      " [1 4]\n",
      " [1 4]\n",
      " [1 4]\n",
      " [1 4]\n",
      " [1 3]\n",
      " [1 2]\n",
      " [1 4]\n",
      " [1 4]\n",
      " [1 3]\n",
      " [1 3]\n",
      " [1 4]\n",
      " [1 4]\n",
      " [1 2]\n",
      " [1 3]\n",
      " [1 5]\n",
      " [1 2]\n",
      " [1 2]\n",
      " [1 3]\n",
      " [1 5]\n",
      " [1 3]\n",
      " [1 2]\n",
      " [1 3]\n",
      " [1 3]\n",
      " [1 3]\n",
      " [1 3]\n",
      " [1 4]\n",
      " [1 3]\n",
      " [1 2]\n",
      " [1 4]\n",
      " [1 5]\n",
      " [1 4]\n",
      " [1 5]\n",
      " [1 1]\n",
      " [1 3]\n",
      " [1 4]\n",
      " [1 5]\n",
      " [1 4]\n",
      " [1 3]\n",
      " [1 5]\n",
      " [1 4]\n",
      " [1 4]\n",
      " [1 3]\n",
      " [1 3]\n",
      " [1 2]\n",
      " [1 3]\n",
      " [1 4]\n",
      " [1 3]\n",
      " [1 3]\n",
      " [1 4]\n",
      " [1 3]\n",
      " [1 4]\n",
      " [1 5]\n",
      " [1 4]\n",
      " [1 5]\n",
      " [1 4]\n",
      " [1 4]\n",
      " [1 5]\n",
      " [1 3]\n",
      " [1 5]\n",
      " [1 5]\n",
      " [1 3]\n",
      " [1 4]\n",
      " [1 3]\n",
      " [1 2]\n",
      " [1 3]\n",
      " [1 3]\n",
      " [1 2]\n",
      " [1 2]\n",
      " [1 3]\n",
      " [1 4]\n",
      " [1 3]\n",
      " [1 3]\n",
      " [1 4]\n",
      " [1 2]\n",
      " [1 4]\n",
      " [1 4]\n",
      " [1 2]\n",
      " [1 3]\n",
      " [1 4]\n",
      " [1 4]\n",
      " [1 3]\n",
      " [1 4]\n",
      " [1 4]\n",
      " [1 4]\n",
      " [1 4]\n",
      " [1 3]\n",
      " [1 3]\n",
      " [1 3]\n",
      " [1 5]\n",
      " [1 4]\n",
      " [1 5]\n",
      " [1 3]\n",
      " [1 5]\n",
      " [1 2]\n",
      " [1 4]\n",
      " [1 4]\n",
      " [1 3]\n",
      " [1 2]\n",
      " [1 5]\n",
      " [1 4]\n",
      " [1 4]\n",
      " [1 4]\n",
      " [1 2]\n",
      " [1 2]\n",
      " [1 4]\n",
      " [1 4]\n",
      " [1 4]\n",
      " [1 3]\n",
      " [1 4]\n",
      " [1 4]\n",
      " [1 5]\n",
      " [1 2]\n",
      " [1 5]\n",
      " [1 2]\n",
      " [1 2]\n",
      " [1 4]\n",
      " [1 3]\n",
      " [1 3]\n",
      " [1 3]\n",
      " [1 4]\n",
      " [1 2]\n",
      " [1 3]\n",
      " [1 2]\n",
      " [1 3]\n",
      " [1 4]\n",
      " [1 4]\n",
      " [1 2]\n",
      " [1 3]\n",
      " [1 1]\n",
      " [1 4]\n",
      " [1 3]\n",
      " [1 3]\n",
      " [1 3]\n",
      " [1 4]\n",
      " [1 5]\n",
      " [1 5]\n",
      " [1 1]\n",
      " [1 3]\n",
      " [1 2]\n",
      " [1 5]\n",
      " [1 5]\n",
      " [1 2]\n",
      " [1 2]\n",
      " [1 4]\n",
      " [1 3]\n",
      " [1 1]\n",
      " [1 4]\n",
      " [1 2]\n",
      " [1 5]\n",
      " [1 3]\n",
      " [1 3]\n",
      " [1 4]\n",
      " [1 4]\n",
      " [1 5]\n",
      " [1 3]\n",
      " [1 4]\n",
      " [1 2]\n",
      " [1 2]\n",
      " [1 3]\n",
      " [1 4]\n",
      " [1 2]\n",
      " [1 4]\n",
      " [1 3]\n",
      " [1 3]\n",
      " [1 3]\n",
      " [1 2]\n",
      " [1 4]\n",
      " [1 0]\n",
      " [1 4]\n",
      " [1 4]\n",
      " [1 3]\n",
      " [1 3]\n",
      " [1 4]\n",
      " [1 5]\n",
      " [1 3]\n",
      " [1 2]\n",
      " [1 3]\n",
      " [1 3]\n",
      " [1 3]\n",
      " [1 5]\n",
      " [1 5]\n",
      " [1 4]\n",
      " [1 3]\n",
      " [1 2]\n",
      " [1 3]\n",
      " [1 2]\n",
      " [1 3]\n",
      " [1 2]\n",
      " [1 2]\n",
      " [1 2]\n",
      " [1 3]\n",
      " [1 3]\n",
      " [1 4]\n",
      " [1 2]\n",
      " [1 4]\n",
      " [1 3]\n",
      " [1 3]\n",
      " [1 3]\n",
      " [1 1]\n",
      " [1 4]\n",
      " [1 4]\n",
      " [1 3]\n",
      " [1 1]\n",
      " [1 4]\n",
      " [1 5]\n",
      " [1 3]\n",
      " [1 4]\n",
      " [1 5]\n",
      " [1 3]\n",
      " [1 5]\n",
      " [1 3]\n",
      " [1 4]\n",
      " [1 5]\n",
      " [1 2]\n",
      " [1 4]\n",
      " [1 1]\n",
      " [1 3]\n",
      " [1 5]\n",
      " [1 1]\n",
      " [1 3]\n",
      " [1 4]\n",
      " [1 3]\n",
      " [1 5]\n",
      " [1 5]\n",
      " [1 2]\n",
      " [1 4]\n",
      " [1 4]\n",
      " [1 3]\n",
      " [1 3]\n",
      " [1 5]\n",
      " [1 4]\n",
      " [1 4]\n",
      " [1 2]\n",
      " [1 5]\n",
      " [1 5]\n",
      " [1 4]\n",
      " [1 4]\n",
      " [1 3]\n",
      " [1 5]\n",
      " [1 5]\n",
      " [1 3]\n",
      " [1 0]\n",
      " [1 4]\n",
      " [1 4]\n",
      " [1 4]\n",
      " [1 5]\n",
      " [1 2]\n",
      " [1 2]\n",
      " [1 3]\n",
      " [1 2]\n",
      " [1 5]\n",
      " [1 5]\n",
      " [1 5]\n",
      " [1 3]\n",
      " [1 5]\n",
      " [1 3]\n",
      " [1 3]\n",
      " [1 4]\n",
      " [1 3]\n",
      " [1 4]\n",
      " [1 3]\n",
      " [1 3]\n",
      " [1 4]\n",
      " [1 3]\n",
      " [1 4]\n",
      " [1 3]\n",
      " [1 4]\n",
      " [1 5]\n",
      " [1 4]\n",
      " [1 3]\n",
      " [1 5]\n",
      " [1 4]\n",
      " [1 4]\n",
      " [1 4]\n",
      " [1 5]\n",
      " [1 4]\n",
      " [1 4]\n",
      " [1 3]]\n"
     ]
    }
   ],
   "source": [
    "# Exploitation only: Main loop for each play\n",
    "n_trials=50\n",
    "for i in range(n_trials):\n",
    "    this_choice = bestArm(av) # Retrieve the best arm\n",
    "    this_prob = arms[this_choice]\n",
    "    this_reward = reward(this_prob)\n",
    "    # add our new record to our memory log av\n",
    "    thisAV = np.array([[this_choice, this_reward]]) # Make an np array using this choice and reward\n",
    "    av = np.concatenate((av, thisAV), axis=0) # add the array from above to the av memory array as a new row\n",
    "\n",
    "print(av)"
   ]
  },
  {
   "cell_type": "code",
   "execution_count": null,
   "metadata": {
    "colab": {
     "base_uri": "https://localhost:8080/",
     "height": 449
    },
    "id": "9QuqV6OoYgPl",
    "outputId": "6e84d2b8-3887-4097-b76a-fb5d21c9847e"
   },
   "outputs": [
    {
     "data": {
      "image/png": "[encoded data removed]",
      "text/plain": [
       "<Figure size 640x480 with 1 Axes>"
      ]
     },
     "metadata": {},
     "output_type": "display_data"
    }
   ],
   "source": [
    "# Prep a matplotlib scatter plot of the mean reward against the number of times the game is played.\n",
    "plt.xlabel(\"Number of times played\")\n",
    "plt.ylabel(\"Average Reward\")\n",
    "\n",
    "# Exploitation only: Main loop for each play\n",
    "for i in range(n_trials):\n",
    "    choice = bestArm(av) # retrieve the best arm\n",
    "    thisAV = np.array([[choice, reward(arms[choice])]])\n",
    "    av = np.concatenate((av, thisAV), axis=0)\n",
    "    #calculate the mean reward\n",
    "    runningMean = np.mean(av[:,1])\n",
    "    plt.scatter(i, runningMean)\n"
   ]
  },
  {
   "cell_type": "code",
   "execution_count": null,
   "metadata": {
    "colab": {
     "base_uri": "https://localhost:8080/",
     "height": 454
    },
    "id": "ZF-b532R_9XP",
    "outputId": "e89a13a7-c678-4dc7-c4d2-1f023d270c08"
   },
   "outputs": [
    {
     "data": {
      "image/png": "[encoded data removed]",
      "text/plain": [
       "<Figure size 640x480 with 1 Axes>"
      ]
     },
     "metadata": {},
     "output_type": "display_data"
    }
   ],
   "source": [
    "# Epsilon greedy policy\n",
    "# with eps of .2 (% for exploration)\n",
    "# which means that 20% of the time we will explore (meaning picking a random arm instead of best arm)\n",
    "# which also means that 80% the time we will just pick the best arm\n",
    "n_trials = 50\n",
    "eps=.5\n",
    "\n",
    "# Prep a matplotlib scatter plot of the mean reward against the number of times the game is played.\n",
    "plt.xlabel(\"Number of times played\")\n",
    "plt.ylabel(\"Average Reward\")\n",
    "\n",
    "# Main loop for each play\n",
    "for i in range(n_trials):\n",
    "    # random.random() gives me a random value between 0 ~ 1\n",
    "    if random.random() > eps: # exploitation\n",
    "        choice = bestArm(av) # retrieve the best arm\n",
    "        thisAV = np.array([[choice, reward(arms[choice])]])\n",
    "        av = np.concatenate((av, thisAV), axis=0) # add the new trial to my av history/memory array\n",
    "    else: #exploration\n",
    "        choice = np.where(arms == np.random.choice(arms))[0][0] # pick a random arm\n",
    "        thisAV = np.array([[choice, reward(arms[choice])]]) #choice, reward\n",
    "        av = np.concatenate((av, thisAV), axis=0) #add to our action-value memory array\n",
    "    #calculate the mean reward\n",
    "    runningMean = np.mean(av[:,1]) # calculate average of rows so far in column 1 (reward value)\n",
    "    plt.scatter(i, runningMean)\n"
   ]
  },
  {
   "cell_type": "code",
   "execution_count": null,
   "metadata": {
    "colab": {
     "base_uri": "https://localhost:8080/"
    },
    "id": "15cXKx7Lc-UE",
    "outputId": "d4eb4536-2d9e-4dd1-c49b-2cad28036b1a"
   },
   "outputs": [
    {
     "data": {
      "text/plain": [
       "array([[1, 0],\n",
       "       [1, 3],\n",
       "       [1, 2],\n",
       "       ...,\n",
       "       [1, 3],\n",
       "       [1, 4],\n",
       "       [1, 3]])"
      ]
     },
     "execution_count": 118,
     "metadata": {},
     "output_type": "execute_result"
    }
   ],
   "source": [
    "av"
   ]
  }
 ],
 "metadata": {
  "colab": {
   "provenance": []
  },
  "kernelspec": {
   "display_name": "Python 3 (ipykernel)",
   "language": "python",
   "name": "python3"
  },
  "language_info": {
   "codemirror_mode": {
    "name": "ipython",
    "version": 3
   },
   "file_extension": ".py",
   "mimetype": "text/x-python",
   "name": "python",
   "nbconvert_exporter": "python",
   "pygments_lexer": "ipython3",
   "version": "3.11.1"
  }
 },
 "nbformat": 4,
 "nbformat_minor": 1
}
